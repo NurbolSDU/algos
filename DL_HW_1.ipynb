{
  "nbformat": 4,
  "nbformat_minor": 0,
  "metadata": {
    "colab": {
      "provenance": [],
      "gpuType": "T4",
      "authorship_tag": "ABX9TyOklNGPk9yDlPLwp3E/2DZC",
      "include_colab_link": true
    },
    "kernelspec": {
      "name": "python3",
      "display_name": "Python 3"
    },
    "language_info": {
      "name": "python"
    },
    "accelerator": "GPU"
  },
  "cells": [
    {
      "cell_type": "markdown",
      "metadata": {
        "id": "view-in-github",
        "colab_type": "text"
      },
      "source": [
        "<a href=\"https://colab.research.google.com/github/NurbolSDU/algos/blob/main/DL_HW_1.ipynb\" target=\"_parent\"><img src=\"https://colab.research.google.com/assets/colab-badge.svg\" alt=\"Open In Colab\"/></a>"
      ]
    },
    {
      "cell_type": "code",
      "execution_count": 78,
      "metadata": {
        "id": "QdG6KcrhP-Zq"
      },
      "outputs": [],
      "source": [
        "\n",
        "!pip -q install torch torchvision torcheval"
      ]
    },
    {
      "cell_type": "code",
      "source": [
        "import os, math, random, time\n",
        "import numpy as np\n",
        "import torch\n",
        "import torch.nn as nn\n",
        "import torch.nn.functional as F\n",
        "from torch.utils.data import DataLoader\n",
        "from torchvision import datasets, transforms\n",
        "from torcheval.metrics import MulticlassAccuracy\n",
        "\n",
        "random.seed(11)\n",
        "np.random.seed(11)\n",
        "torch.manual_seed(11)\n",
        "torch.cuda.manual_seed_all(11)\n",
        "torch.backends.cudnn.benchmark = False\n",
        "torch.backends.cudnn.deterministic = True\n",
        "\n",
        "\n",
        "DEVICE = torch.device(\"cuda\" if torch.cuda.is_available() else \"cpu\")\n",
        "DEVICE"
      ],
      "metadata": {
        "colab": {
          "base_uri": "https://localhost:8080/"
        },
        "id": "waRRkCAZR0VX",
        "outputId": "7c315d04-0167-40af-a0e5-47877400d49c"
      },
      "execution_count": 79,
      "outputs": [
        {
          "output_type": "execute_result",
          "data": {
            "text/plain": [
              "device(type='cuda')"
            ]
          },
          "metadata": {},
          "execution_count": 79
        }
      ]
    },
    {
      "cell_type": "code",
      "source": [
        "MNIST_MEAN, MNIST_STD = (0.1307,), (0.3081,)\n",
        "\n",
        "train_tf = transforms.Compose([\n",
        "    transforms.RandomCrop(28, padding=2),\n",
        "    transforms.RandomRotation(10),\n",
        "    transforms.ToTensor(),\n",
        "    transforms.Normalize(MNIST_MEAN, MNIST_STD),\n",
        "])\n",
        "\n",
        "test_tf = transforms.Compose([\n",
        "    transforms.ToTensor(),\n",
        "    transforms.Normalize(MNIST_MEAN, MNIST_STD),\n",
        "])\n",
        "\n",
        "data_root = \"./data\""
      ],
      "metadata": {
        "id": "ERbki06TSmbf"
      },
      "execution_count": 80,
      "outputs": []
    },
    {
      "cell_type": "code",
      "source": [
        "train_ds = datasets.MNIST(root=data_root, train=True, download=True, transform=train_tf)\n",
        "test_ds  = datasets.MNIST(root=data_root, train=False, download=True, transform=test_tf)\n"
      ],
      "metadata": {
        "id": "BdXhK_2lSpXZ"
      },
      "execution_count": 81,
      "outputs": []
    },
    {
      "cell_type": "code",
      "source": [
        "BATCH_SIZE = 128\n",
        "NUM_WORKERS = 2"
      ],
      "metadata": {
        "id": "RRO6dOvqSr56"
      },
      "execution_count": 82,
      "outputs": []
    },
    {
      "cell_type": "code",
      "source": [
        "train_loader = DataLoader(train_ds, batch_size=BATCH_SIZE, shuffle=True,\n",
        "                          num_workers=NUM_WORKERS, pin_memory=True)\n",
        "test_loader  = DataLoader(test_ds, batch_size=512, shuffle=False,\n",
        "                          num_workers=NUM_WORKERS, pin_memory=True)\n"
      ],
      "metadata": {
        "id": "taXF9dY3Suec"
      },
      "execution_count": 83,
      "outputs": []
    },
    {
      "cell_type": "code",
      "source": [
        "len(train_ds), len(test_ds)"
      ],
      "metadata": {
        "colab": {
          "base_uri": "https://localhost:8080/"
        },
        "id": "HwOmyWUESwp4",
        "outputId": "2a6175af-f46d-430f-cb0b-af72231f0495"
      },
      "execution_count": 84,
      "outputs": [
        {
          "output_type": "execute_result",
          "data": {
            "text/plain": [
              "(60000, 10000)"
            ]
          },
          "metadata": {},
          "execution_count": 84
        }
      ]
    },
    {
      "cell_type": "code",
      "source": [
        "class ConvBlock(nn.Module):\n",
        "    def __init__(self, cin, cout):\n",
        "        super().__init__()\n",
        "        self.net = nn.Sequential(\n",
        "            nn.Conv2d(cin, cout, kernel_size=3, padding=1, bias=False),\n",
        "            nn.BatchNorm2d(cout),\n",
        "            nn.ReLU(inplace=True),\n",
        "        )\n",
        "    def forward(self, x): return self.net(x)"
      ],
      "metadata": {
        "id": "_K-Lqf2gSzyW"
      },
      "execution_count": 85,
      "outputs": []
    },
    {
      "cell_type": "code",
      "source": [
        "class TeacherCNN(nn.Module):\n",
        "    def __init__(self, num_classes=10):\n",
        "        super().__init__()\n",
        "        self.stem = nn.Sequential(\n",
        "            ConvBlock(1, 32),\n",
        "            ConvBlock(32, 32),\n",
        "        )\n",
        "        self.block2 = nn.Sequential(\n",
        "            nn.MaxPool2d(2),\n",
        "            ConvBlock(32, 64),\n",
        "            ConvBlock(64, 64),\n",
        "        )\n",
        "        self.block3 = nn.Sequential(\n",
        "            nn.MaxPool2d(2),\n",
        "            ConvBlock(64, 128),\n",
        "            ConvBlock(128, 128),\n",
        "        )\n",
        "        self.head = nn.Sequential(\n",
        "            nn.AdaptiveAvgPool2d(1),\n",
        "            nn.Flatten(),\n",
        "            nn.Linear(128, num_classes)\n",
        "        )\n",
        "\n",
        "    def forward(self, x):\n",
        "        x = self.stem(x)\n",
        "        x = self.block2(x)\n",
        "        x = self.block3(x)\n",
        "        x = self.head(x)\n",
        "        return x"
      ],
      "metadata": {
        "id": "xcD5IiNjS3ZR"
      },
      "execution_count": 86,
      "outputs": []
    },
    {
      "cell_type": "code",
      "source": [
        "model = TeacherCNN().to(DEVICE)\n",
        "sum(p.numel() for p in model.parameters())/1e6, model"
      ],
      "metadata": {
        "colab": {
          "base_uri": "https://localhost:8080/"
        },
        "id": "OT7rbisbS-QV",
        "outputId": "7a61319f-2618-4619-b9be-44ad50356606"
      },
      "execution_count": 87,
      "outputs": [
        {
          "output_type": "execute_result",
          "data": {
            "text/plain": [
              "(0.28817,\n",
              " TeacherCNN(\n",
              "   (stem): Sequential(\n",
              "     (0): ConvBlock(\n",
              "       (net): Sequential(\n",
              "         (0): Conv2d(1, 32, kernel_size=(3, 3), stride=(1, 1), padding=(1, 1), bias=False)\n",
              "         (1): BatchNorm2d(32, eps=1e-05, momentum=0.1, affine=True, track_running_stats=True)\n",
              "         (2): ReLU(inplace=True)\n",
              "       )\n",
              "     )\n",
              "     (1): ConvBlock(\n",
              "       (net): Sequential(\n",
              "         (0): Conv2d(32, 32, kernel_size=(3, 3), stride=(1, 1), padding=(1, 1), bias=False)\n",
              "         (1): BatchNorm2d(32, eps=1e-05, momentum=0.1, affine=True, track_running_stats=True)\n",
              "         (2): ReLU(inplace=True)\n",
              "       )\n",
              "     )\n",
              "   )\n",
              "   (block2): Sequential(\n",
              "     (0): MaxPool2d(kernel_size=2, stride=2, padding=0, dilation=1, ceil_mode=False)\n",
              "     (1): ConvBlock(\n",
              "       (net): Sequential(\n",
              "         (0): Conv2d(32, 64, kernel_size=(3, 3), stride=(1, 1), padding=(1, 1), bias=False)\n",
              "         (1): BatchNorm2d(64, eps=1e-05, momentum=0.1, affine=True, track_running_stats=True)\n",
              "         (2): ReLU(inplace=True)\n",
              "       )\n",
              "     )\n",
              "     (2): ConvBlock(\n",
              "       (net): Sequential(\n",
              "         (0): Conv2d(64, 64, kernel_size=(3, 3), stride=(1, 1), padding=(1, 1), bias=False)\n",
              "         (1): BatchNorm2d(64, eps=1e-05, momentum=0.1, affine=True, track_running_stats=True)\n",
              "         (2): ReLU(inplace=True)\n",
              "       )\n",
              "     )\n",
              "   )\n",
              "   (block3): Sequential(\n",
              "     (0): MaxPool2d(kernel_size=2, stride=2, padding=0, dilation=1, ceil_mode=False)\n",
              "     (1): ConvBlock(\n",
              "       (net): Sequential(\n",
              "         (0): Conv2d(64, 128, kernel_size=(3, 3), stride=(1, 1), padding=(1, 1), bias=False)\n",
              "         (1): BatchNorm2d(128, eps=1e-05, momentum=0.1, affine=True, track_running_stats=True)\n",
              "         (2): ReLU(inplace=True)\n",
              "       )\n",
              "     )\n",
              "     (2): ConvBlock(\n",
              "       (net): Sequential(\n",
              "         (0): Conv2d(128, 128, kernel_size=(3, 3), stride=(1, 1), padding=(1, 1), bias=False)\n",
              "         (1): BatchNorm2d(128, eps=1e-05, momentum=0.1, affine=True, track_running_stats=True)\n",
              "         (2): ReLU(inplace=True)\n",
              "       )\n",
              "     )\n",
              "   )\n",
              "   (head): Sequential(\n",
              "     (0): AdaptiveAvgPool2d(output_size=1)\n",
              "     (1): Flatten(start_dim=1, end_dim=-1)\n",
              "     (2): Linear(in_features=128, out_features=10, bias=True)\n",
              "   )\n",
              " ))"
            ]
          },
          "metadata": {},
          "execution_count": 87
        }
      ]
    },
    {
      "cell_type": "code",
      "source": [
        "def accuracy(logits, targets):\n",
        "    return (logits.argmax(1) == targets).float().mean().item()"
      ],
      "metadata": {
        "id": "8JSh6V_cTDyy"
      },
      "execution_count": 88,
      "outputs": []
    },
    {
      "cell_type": "code",
      "source": [
        "@torch.no_grad()\n",
        "def evaluate(model, loader, device=DEVICE):\n",
        "    model.eval()\n",
        "    metric = MulticlassAccuracy(num_classes=10, average=\"micro\").to(device)\n",
        "    total_loss = 0.0\n",
        "    n = 0\n",
        "    for x, y in loader:\n",
        "        x, y = x.to(device, non_blocking=True), y.to(device, non_blocking=True)\n",
        "        logits = model(x)\n",
        "        loss = F.cross_entropy(logits, y)\n",
        "        total_loss += loss.item() * x.size(0)\n",
        "        n += x.size(0)\n",
        "        metric.update(logits, y)\n",
        "    return {\"loss\": total_loss / n, \"acc\": metric.compute().item()}\n"
      ],
      "metadata": {
        "id": "kViyv6s0TGuZ"
      },
      "execution_count": 89,
      "outputs": []
    },
    {
      "cell_type": "code",
      "source": [
        "def train_one_epoch(model, loader, optimizer, scheduler=None, device=DEVICE):\n",
        "    model.train()\n",
        "    total_loss = 0.0\n",
        "    n = 0\n",
        "    for x, y in loader:\n",
        "        x, y = x.to(device, non_blocking=True), y.to(device, non_blocking=True)\n",
        "        logits = model(x)\n",
        "        loss = F.cross_entropy(logits, y)\n",
        "\n",
        "        optimizer.zero_grad(set_to_none=True)\n",
        "        loss.backward()\n",
        "        optimizer.step()\n",
        "        if scheduler: scheduler.step()\n",
        "\n",
        "        total_loss += loss.item() * x.size(0)\n",
        "        n += x.size(0)\n",
        "    return total_loss / n"
      ],
      "metadata": {
        "id": "U9g_DPcdTJMl"
      },
      "execution_count": 90,
      "outputs": []
    },
    {
      "cell_type": "code",
      "source": [
        "EPOCHS = 18\n",
        "MAX_LR = 1.5e-2\n",
        "WD = 5e-4"
      ],
      "metadata": {
        "id": "QtauCt0lTMUB"
      },
      "execution_count": 91,
      "outputs": []
    },
    {
      "cell_type": "code",
      "source": [
        "optimizer = torch.optim.AdamW(model.parameters(), lr=MAX_LR, weight_decay=WD)\n",
        "steps_per_epoch = math.ceil(len(train_loader.dataset) / BATCH_SIZE)"
      ],
      "metadata": {
        "id": "BwX3C-CKTO_Y"
      },
      "execution_count": 92,
      "outputs": []
    },
    {
      "cell_type": "code",
      "source": [
        "scheduler = torch.optim.lr_scheduler.OneCycleLR(\n",
        "    optimizer,\n",
        "    max_lr=MAX_LR,\n",
        "    total_steps=EPOCHS * steps_per_epoch,\n",
        "    pct_start=0.15,\n",
        "    div_factor=10,\n",
        "    final_div_factor=100\n",
        ")"
      ],
      "metadata": {
        "id": "4_pSzjvvTRko"
      },
      "execution_count": 93,
      "outputs": []
    },
    {
      "cell_type": "code",
      "source": [
        "best = {\"acc\": 0.0, \"state\": None}\n",
        "history = []"
      ],
      "metadata": {
        "id": "Hu_Jo_GITUDf"
      },
      "execution_count": 94,
      "outputs": []
    },
    {
      "cell_type": "code",
      "source": [
        "for epoch in range(1, EPOCHS + 1):\n",
        "    t0 = time.time()\n",
        "    train_loss = train_one_epoch(model, train_loader, optimizer, scheduler)\n",
        "    val = evaluate(model, test_loader)\n",
        "    secs = time.time() - t0\n",
        "\n",
        "    if val[\"acc\"] > best[\"acc\"]:\n",
        "        best[\"acc\"] = val[\"acc\"]\n",
        "        best[\"state\"] = {k: v.cpu() for k, v in model.state_dict().items()}\n",
        "\n",
        "    history.append((epoch, train_loss, val[\"loss\"], val[\"acc\"]))\n",
        "    print(f\"Epoch {epoch:02d} | train_loss={train_loss:.4f} \"\n",
        "          f\"| test_loss={val['loss']:.4f} | test_acc={val['acc']*100:.2f}% | {secs:.1f}s\")"
      ],
      "metadata": {
        "colab": {
          "base_uri": "https://localhost:8080/"
        },
        "id": "SwpunVljTWaX",
        "outputId": "ded09e3b-dd91-487f-ce23-b2a9e752e40b"
      },
      "execution_count": 95,
      "outputs": [
        {
          "output_type": "stream",
          "name": "stdout",
          "text": [
            "Epoch 01 | train_loss=0.1852 | test_loss=0.2988 | test_acc=90.27% | 32.7s\n",
            "Epoch 02 | train_loss=0.0657 | test_loss=0.0867 | test_acc=97.18% | 24.3s\n",
            "Epoch 03 | train_loss=0.0532 | test_loss=0.0358 | test_acc=98.84% | 25.5s\n",
            "Epoch 04 | train_loss=0.0413 | test_loss=0.0293 | test_acc=99.01% | 25.0s\n",
            "Epoch 05 | train_loss=0.0368 | test_loss=0.0246 | test_acc=99.27% | 24.4s\n",
            "Epoch 06 | train_loss=0.0336 | test_loss=0.0332 | test_acc=98.93% | 24.6s\n",
            "Epoch 07 | train_loss=0.0276 | test_loss=0.0201 | test_acc=99.32% | 24.1s\n",
            "Epoch 08 | train_loss=0.0273 | test_loss=0.0241 | test_acc=99.14% | 23.7s\n",
            "Epoch 09 | train_loss=0.0242 | test_loss=0.0174 | test_acc=99.40% | 24.4s\n",
            "Epoch 10 | train_loss=0.0213 | test_loss=0.0185 | test_acc=99.42% | 24.2s\n",
            "Epoch 11 | train_loss=0.0187 | test_loss=0.0169 | test_acc=99.57% | 23.9s\n",
            "Epoch 12 | train_loss=0.0165 | test_loss=0.0178 | test_acc=99.34% | 24.0s\n",
            "Epoch 13 | train_loss=0.0137 | test_loss=0.0127 | test_acc=99.53% | 24.0s\n",
            "Epoch 14 | train_loss=0.0122 | test_loss=0.0099 | test_acc=99.67% | 23.3s\n",
            "Epoch 15 | train_loss=0.0087 | test_loss=0.0095 | test_acc=99.70% | 23.5s\n",
            "Epoch 16 | train_loss=0.0079 | test_loss=0.0086 | test_acc=99.68% | 24.1s\n",
            "Epoch 17 | train_loss=0.0068 | test_loss=0.0079 | test_acc=99.75% | 24.3s\n",
            "Epoch 18 | train_loss=0.0064 | test_loss=0.0082 | test_acc=99.74% | 24.1s\n"
          ]
        }
      ]
    },
    {
      "cell_type": "code",
      "source": [
        "if best[\"state\"] is not None:\n",
        "    model.load_state_dict(best[\"state\"])\n",
        "\n",
        "final_metrics = evaluate(model, test_loader)\n",
        "print(f\"\\nBest Test Accuracy: {final_metrics['acc']*100:.2f}%\")"
      ],
      "metadata": {
        "colab": {
          "base_uri": "https://localhost:8080/"
        },
        "id": "gabyjoJxXSMC",
        "outputId": "2d3da619-3bb5-4437-d212-ee101a5b8178"
      },
      "execution_count": 96,
      "outputs": [
        {
          "output_type": "stream",
          "name": "stdout",
          "text": [
            "\n",
            "Best Test Accuracy: 99.75%\n"
          ]
        }
      ]
    },
    {
      "cell_type": "code",
      "source": [
        "save_dir = \"./teacher_ckpt\"\n",
        "os.makedirs(save_dir, exist_ok=True)"
      ],
      "metadata": {
        "id": "XmKio5HSXX3e"
      },
      "execution_count": 97,
      "outputs": []
    },
    {
      "cell_type": "code",
      "source": [
        "teacher_path = os.path.join(save_dir, \"mnist_teacher_cnn.pt\")\n",
        "torch.save({\"state_dict\": model.state_dict(), \"arch\": \"TeacherCNN\"}, teacher_path)\n",
        "print(\"Saved teacher to:\", teacher_path)"
      ],
      "metadata": {
        "colab": {
          "base_uri": "https://localhost:8080/"
        },
        "id": "8Z_J_we-XZ9r",
        "outputId": "689d4285-dbb1-400c-969c-4bb24ea3faf0"
      },
      "execution_count": 98,
      "outputs": [
        {
          "output_type": "stream",
          "name": "stdout",
          "text": [
            "Saved teacher to: ./teacher_ckpt/mnist_teacher_cnn.pt\n"
          ]
        }
      ]
    },
    {
      "cell_type": "code",
      "source": [
        "@torch.no_grad()\n",
        "def cache_logits(model, loader, device=DEVICE):\n",
        "    model.eval()\n",
        "    all_logits = []\n",
        "    all_targets = []\n",
        "    for x, y in loader:\n",
        "        x = x.to(device, non_blocking=True)\n",
        "        logits = model(x)\n",
        "        all_logits.append(logits.cpu())\n",
        "        all_targets.append(y.clone())\n",
        "    return torch.cat(all_logits, dim=0), torch.cat(all_targets, dim=0)"
      ],
      "metadata": {
        "id": "_8UBiqY3Xc7X"
      },
      "execution_count": 99,
      "outputs": []
    },
    {
      "cell_type": "code",
      "source": [
        "train_plain_ds = datasets.MNIST(root=\"./data\", train=True, download=True,\n",
        "                                transform=test_tf)\n",
        "train_plain_loader = DataLoader(train_plain_ds, batch_size=512, shuffle=False,\n",
        "                                num_workers=NUM_WORKERS, pin_memory=True)"
      ],
      "metadata": {
        "id": "R-YYGL0OXflS"
      },
      "execution_count": 100,
      "outputs": []
    },
    {
      "cell_type": "code",
      "source": [
        "train_logits, train_targets = cache_logits(model, train_plain_loader)\n",
        "logits_path = os.path.join(save_dir, \"mnist_train_logits.pt\")\n",
        "torch.save({\"logits\": train_logits, \"targets\": train_targets}, logits_path)\n",
        "train_logits.shape, train_targets.shape, logits_path"
      ],
      "metadata": {
        "colab": {
          "base_uri": "https://localhost:8080/"
        },
        "id": "pLUTVKGpXiNj",
        "outputId": "dc82265c-2c15-47ef-f199-e3a8a385126e"
      },
      "execution_count": 101,
      "outputs": [
        {
          "output_type": "execute_result",
          "data": {
            "text/plain": [
              "(torch.Size([60000, 10]),\n",
              " torch.Size([60000]),\n",
              " './teacher_ckpt/mnist_train_logits.pt')"
            ]
          },
          "metadata": {},
          "execution_count": 101
        }
      ]
    },
    {
      "cell_type": "markdown",
      "source": [
        "**Step 2**"
      ],
      "metadata": {
        "id": "LgC9X9gsX2gT"
      }
    },
    {
      "cell_type": "code",
      "source": [
        "data = torch.load(\"./teacher_ckpt/mnist_train_logits.pt\")\n",
        "teacher_logits, targets = data[\"logits\"], data[\"targets\"]\n",
        "print(\"Loaded:\", teacher_logits.shape, targets.shape)"
      ],
      "metadata": {
        "colab": {
          "base_uri": "https://localhost:8080/"
        },
        "id": "JKSML_zfX5mg",
        "outputId": "48962001-feca-47d7-acc9-4e8e02977b49"
      },
      "execution_count": 102,
      "outputs": [
        {
          "output_type": "stream",
          "name": "stdout",
          "text": [
            "Loaded: torch.Size([60000, 10]) torch.Size([60000])\n"
          ]
        }
      ]
    },
    {
      "cell_type": "code",
      "source": [
        "class StudentMLP(nn.Module):\n",
        "    def __init__(self, hidden=256):\n",
        "        super().__init__()\n",
        "        self.net = nn.Sequential(\n",
        "            nn.Linear(28*28, hidden),\n",
        "            nn.ReLU(inplace=True),\n",
        "            nn.Linear(hidden, hidden),\n",
        "            nn.ReLU(inplace=True),\n",
        "            nn.Linear(hidden, 10)\n",
        "        )\n",
        "    def forward(self, x):\n",
        "        if x.ndim == 4:\n",
        "            x = x.view(x.size(0), -1)\n",
        "        return self.net(x)"
      ],
      "metadata": {
        "id": "FWc1FpiiX8uy"
      },
      "execution_count": 103,
      "outputs": []
    },
    {
      "cell_type": "code",
      "source": [
        "student = StudentMLP(hidden=256).to(DEVICE)\n",
        "sum(p.numel() for p in student.parameters())/1e6"
      ],
      "metadata": {
        "colab": {
          "base_uri": "https://localhost:8080/"
        },
        "id": "IrfQCnGIX8tq",
        "outputId": "c329925c-3f4a-4ed2-f66d-4880c9cda5f5"
      },
      "execution_count": 104,
      "outputs": [
        {
          "output_type": "execute_result",
          "data": {
            "text/plain": [
              "0.269322"
            ]
          },
          "metadata": {},
          "execution_count": 104
        }
      ]
    },
    {
      "cell_type": "code",
      "source": [
        "from torchvision import datasets, transforms\n",
        "\n",
        "test_tf = transforms.Compose([\n",
        "    transforms.ToTensor(),\n",
        "    transforms.Normalize((0.1307,), (0.3081,))\n",
        "])\n",
        "train_tf = test_tf"
      ],
      "metadata": {
        "id": "q3to6LKrYDG-"
      },
      "execution_count": 105,
      "outputs": []
    },
    {
      "cell_type": "code",
      "source": [
        "train_imgs = datasets.MNIST(root=\"./data\", train=True, download=True, transform=train_tf)\n",
        "train_loader_kd = DataLoader(train_imgs, batch_size=128, shuffle=True, num_workers=2, pin_memory=True)"
      ],
      "metadata": {
        "id": "xQWEaI4wYFWt"
      },
      "execution_count": 106,
      "outputs": []
    },
    {
      "cell_type": "code",
      "source": [
        "teacher_logits = teacher_logits.to(DEVICE)\n",
        "targets = targets.to(DEVICE)"
      ],
      "metadata": {
        "id": "7cwbX-uPYHtZ"
      },
      "execution_count": 107,
      "outputs": []
    },
    {
      "cell_type": "code",
      "source": [
        "def kd_loss(student_logits, teacher_logits, true_labels, T=4.0, alpha=0.5):\n",
        "\n",
        "    soft_teacher = F.log_softmax(teacher_logits / T, dim=1)\n",
        "    soft_student = F.log_softmax(student_logits / T, dim=1)\n",
        "    kd = F.kl_div(soft_student, soft_teacher.exp(), reduction=\"batchmean\") * (T**2)\n",
        "    ce = F.cross_entropy(student_logits, true_labels)\n",
        "    return alpha * kd + (1 - alpha) * ce\n"
      ],
      "metadata": {
        "id": "L17G5dMZYJ1a"
      },
      "execution_count": 108,
      "outputs": []
    },
    {
      "cell_type": "code",
      "source": [
        "EPOCHS = 18\n",
        "LR = 1e-3\n",
        "ALPHA = 0.7\n",
        "TEMP = 4.0"
      ],
      "metadata": {
        "id": "_3_PWm9YYURo"
      },
      "execution_count": 109,
      "outputs": []
    },
    {
      "cell_type": "code",
      "source": [
        "opt = torch.optim.AdamW(student.parameters(), lr=LR)\n",
        "best_acc = 0.0"
      ],
      "metadata": {
        "id": "TxUE7nHsYW3T"
      },
      "execution_count": 110,
      "outputs": []
    },
    {
      "cell_type": "code",
      "source": [
        "test_ds = datasets.MNIST(root=\"./data\", train=False, download=True, transform=test_tf)\n",
        "test_loader = DataLoader(test_ds, batch_size=512, shuffle=False)"
      ],
      "metadata": {
        "id": "mdRi9AZ1YZIF"
      },
      "execution_count": 111,
      "outputs": []
    },
    {
      "cell_type": "code",
      "source": [
        "@torch.no_grad()\n",
        "def eval_acc(model, loader):\n",
        "    model.eval()\n",
        "    correct = total = 0\n",
        "    for x, y in loader:\n",
        "        x, y = x.to(DEVICE), y.to(DEVICE)\n",
        "        logits = model(x)\n",
        "        pred = logits.argmax(1)\n",
        "        correct += (pred == y).sum().item()\n",
        "        total += y.numel()\n",
        "    return correct / total"
      ],
      "metadata": {
        "id": "9qfeku25Ybf8"
      },
      "execution_count": 112,
      "outputs": []
    },
    {
      "cell_type": "code",
      "source": [
        "for epoch in range(1, EPOCHS + 1):\n",
        "    student.train()\n",
        "    t0 = time.time()\n",
        "    total_loss = 0\n",
        "    for i, (x, y) in enumerate(train_loader_kd):\n",
        "        x, y = x.to(DEVICE), y.to(DEVICE)\n",
        "\n",
        "        batch_logits = teacher_logits[i*128 : i*128 + x.size(0)]\n",
        "        loss = kd_loss(student(x), batch_logits, y, T=TEMP, alpha=ALPHA)\n",
        "        opt.zero_grad()\n",
        "        loss.backward()\n",
        "        opt.step()\n",
        "        total_loss += loss.item()\n",
        "    acc = eval_acc(student, test_loader)\n",
        "    print(f\"Epoch {epoch:02d} | loss={total_loss/len(train_loader_kd):.4f} | test_acc={acc*100:.2f}% | {time.time()-t0:.1f}s\")\n",
        "    if acc > best_acc:\n",
        "        best_acc = acc\n",
        "        torch.save(student.state_dict(), \"./student_kd.pt\")\n"
      ],
      "metadata": {
        "colab": {
          "base_uri": "https://localhost:8080/"
        },
        "id": "RDG47x8wYeJv",
        "outputId": "a5f93b31-a310-4bf5-e1e6-915d18f9ae1b"
      },
      "execution_count": 113,
      "outputs": [
        {
          "output_type": "stream",
          "name": "stdout",
          "text": [
            "Epoch 01 | loss=21.0089 | test_acc=85.32% | 14.4s\n",
            "Epoch 02 | loss=20.9545 | test_acc=89.43% | 14.2s\n",
            "Epoch 03 | loss=20.9389 | test_acc=90.30% | 14.3s\n",
            "Epoch 04 | loss=20.9230 | test_acc=91.92% | 14.2s\n",
            "Epoch 05 | loss=20.9268 | test_acc=92.57% | 14.8s\n",
            "Epoch 06 | loss=20.9167 | test_acc=90.60% | 14.0s\n",
            "Epoch 07 | loss=20.9191 | test_acc=91.41% | 14.3s\n",
            "Epoch 08 | loss=20.9061 | test_acc=91.83% | 14.4s\n",
            "Epoch 09 | loss=20.9137 | test_acc=92.00% | 14.2s\n",
            "Epoch 10 | loss=20.9020 | test_acc=92.91% | 14.3s\n",
            "Epoch 11 | loss=20.9001 | test_acc=93.23% | 14.2s\n",
            "Epoch 12 | loss=20.9066 | test_acc=93.55% | 14.5s\n",
            "Epoch 13 | loss=20.8995 | test_acc=93.84% | 14.5s\n",
            "Epoch 14 | loss=20.8971 | test_acc=92.74% | 14.2s\n",
            "Epoch 15 | loss=20.9124 | test_acc=92.65% | 14.3s\n",
            "Epoch 16 | loss=20.9070 | test_acc=94.01% | 14.4s\n",
            "Epoch 17 | loss=20.8985 | test_acc=93.80% | 14.2s\n",
            "Epoch 18 | loss=20.8911 | test_acc=93.88% | 14.5s\n"
          ]
        }
      ]
    },
    {
      "cell_type": "code",
      "source": [
        "print(f\"\\nBest test accuracy: {best_acc*100:.2f}%\")"
      ],
      "metadata": {
        "colab": {
          "base_uri": "https://localhost:8080/"
        },
        "id": "b3888Gs4ZfI3",
        "outputId": "67b2fe2b-7e5d-490e-bd9d-34ba899a8002"
      },
      "execution_count": 114,
      "outputs": [
        {
          "output_type": "stream",
          "name": "stdout",
          "text": [
            "\n",
            "Best test accuracy: 94.01%\n"
          ]
        }
      ]
    },
    {
      "cell_type": "markdown",
      "source": [
        "**Step 3**"
      ],
      "metadata": {
        "id": "EQduqURTarfq"
      }
    },
    {
      "cell_type": "code",
      "source": [
        "\n",
        "import os, time, math, copy, torch, torch.nn as nn, torch.nn.functional as F\n",
        "from torch.utils.data import DataLoader\n",
        "from torchvision import datasets, transforms\n",
        "\n",
        "DEVICE = torch.device(\"cuda\" if torch.cuda.is_available() else \"cpu\")\n",
        "\n",
        "class StudentMLP(nn.Module):\n",
        "    def __init__(self, hidden=256):\n",
        "        super().__init__()\n",
        "        self.net = nn.Sequential(\n",
        "            nn.Linear(28*28, hidden),\n",
        "            nn.ReLU(inplace=True),\n",
        "            nn.Linear(hidden, hidden),\n",
        "            nn.ReLU(inplace=True),\n",
        "            nn.Linear(hidden, 10)\n",
        "        )\n",
        "    def forward(self, x):\n",
        "        if x.ndim == 4:\n",
        "            x = x.view(x.size(0), -1)\n",
        "        return self.net(x)\n",
        "\n",
        "student_fp32 = StudentMLP(hidden=256)\n",
        "ckpt = torch.load(\"./student_kd.pt\", map_location=\"cpu\")\n",
        "student_fp32.load_state_dict(ckpt if isinstance(ckpt, dict) and \"state_dict\" not in ckpt else ckpt[\"state_dict\"])\n",
        "student_fp32.eval();\n",
        "\n",
        "test_tf = transforms.Compose([\n",
        "    transforms.ToTensor(),\n",
        "    transforms.Normalize((0.1307,), (0.3081,))\n",
        "])\n",
        "test_ds = datasets.MNIST(root=\"./data\", train=False, download=True, transform=test_tf)\n",
        "test_loader = DataLoader(test_ds, batch_size=512, shuffle=False, num_workers=2, pin_memory=True)\n",
        "\n",
        "@torch.no_grad()\n",
        "def eval_acc(model, loader):\n",
        "    model.eval()\n",
        "    correct = total = 0\n",
        "    for x, y in loader:\n",
        "        x, y = x.to(\"cpu\"), y.to(\"cpu\")\n",
        "        logits = model(x)\n",
        "        pred = logits.argmax(1)\n",
        "        correct += (pred == y).sum().item()\n",
        "        total += y.numel()\n",
        "    return correct / total\n",
        "\n",
        "def model_size_mb(model, path=\"./_tmp_model.pt\"):\n",
        "    torch.save(model.state_dict(), path)\n",
        "    mb = os.path.getsize(path) / 1e6\n",
        "    os.remove(path)\n",
        "    return mb\n",
        "\n",
        "def density_percent(model):\n",
        "\n",
        "    nz, total = 0, 0\n",
        "    with torch.no_grad():\n",
        "        for p in model.parameters():\n",
        "            if p.dtype.is_floating_point:\n",
        "                total += p.numel()\n",
        "                nz += (p != 0).sum().item()\n",
        "    return 100.0 * nz / max(total, 1)\n",
        "\n",
        "print(\"Baseline (uncompressed) — acc, size(MB), density(%)\")\n",
        "print(f\"{eval_acc(student_fp32, test_loader)*100:.2f}%\",\n",
        "      f\"{model_size_mb(student_fp32):.3f} MB\",\n",
        "      f\"{density_percent(student_fp32):.2f}%\")\n"
      ],
      "metadata": {
        "colab": {
          "base_uri": "https://localhost:8080/"
        },
        "id": "5Fm8B843kAXj",
        "outputId": "b2d0a545-2d5b-4754-880f-ae0029f7bf23"
      },
      "execution_count": 118,
      "outputs": [
        {
          "output_type": "stream",
          "name": "stdout",
          "text": [
            "Baseline (uncompressed) — acc, size(MB), density(%)\n",
            "94.01% 1.080 MB 100.00%\n"
          ]
        }
      ]
    },
    {
      "cell_type": "code",
      "source": [
        "import torch.nn.utils.prune as prune\n",
        "\n",
        "def apply_global_unstructured_pruning(model, prune_pct=0.90):\n",
        "\n",
        "    m = copy.deepcopy(model)\n",
        "\n",
        "    params = []\n",
        "    for mod in m.modules():\n",
        "        if isinstance(mod, nn.Linear):\n",
        "            params.append((mod, \"weight\"))\n",
        "\n",
        "    prune.global_unstructured(\n",
        "        params,\n",
        "        pruning_method=prune.L1Unstructured,\n",
        "        amount=prune_pct\n",
        "    )\n",
        "\n",
        "    for (mod, _) in params:\n",
        "        prune.remove(mod, \"weight\")\n",
        "    return m\n",
        "\n",
        "\n",
        "PRUNE_PCT = 0.90\n",
        "student_pruned = apply_global_unstructured_pruning(student_fp32, PRUNE_PCT)\n",
        "\n",
        "print(\"After unstructured pruning\")\n",
        "print(f\"acc: {eval_acc(student_pruned, test_loader)*100:.2f}%\")\n",
        "print(f\"size: {model_size_mb(student_pruned):.3f} MB\")\n",
        "print(f\"density: {density_percent(student_pruned):.2f}% (target keep ≈ {(1-PRUNE_PCT)*100:.1f}%)\")\n",
        "\n",
        "\n",
        "os.makedirs(\"./compressed_ckpt\", exist_ok=True)\n",
        "torch.save(student_pruned.state_dict(), f\"./compressed_ckpt/student_pruned_unstructured_{int(PRUNE_PCT*100)}.pt\")\n"
      ],
      "metadata": {
        "colab": {
          "base_uri": "https://localhost:8080/"
        },
        "id": "fUvw_VFIbBBI",
        "outputId": "6b05cf69-1f72-4d49-92fc-6a884ded22e4"
      },
      "execution_count": 119,
      "outputs": [
        {
          "output_type": "stream",
          "name": "stdout",
          "text": [
            "After unstructured pruning\n",
            "acc: 92.32%\n",
            "size: 1.080 MB\n",
            "density: 10.17% (target keep ≈ 10.0%)\n"
          ]
        }
      ]
    },
    {
      "cell_type": "code",
      "source": [
        "from torch.ao.quantization import quantize_dynamic\n",
        "\n",
        "def quantize_linear_dynamic_int8(model_fp32: nn.Module):\n",
        "    qmodel = quantize_dynamic(\n",
        "        copy.deepcopy(model_fp32).to(\"cpu\").eval(),\n",
        "        {nn.Linear},\n",
        "        dtype=torch.qint8\n",
        "    )\n",
        "    return qmodel\n",
        "\n",
        "\n",
        "to_quantize = student_pruned\n",
        "student_int8 = quantize_linear_dynamic_int8(to_quantize)\n",
        "\n",
        "def saved_file_size_mb(module, path=\"./_tmp_q.pt\"):\n",
        "    torch.save(module.state_dict(), path)\n",
        "    mb = os.path.getsize(path) / 1e6\n",
        "    os.remove(path)\n",
        "    return mb\n",
        "\n",
        "acc_int8 = eval_acc(student_int8, test_loader)\n",
        "size_int8 = saved_file_size_mb(student_int8, \"./compressed_ckpt/student_int8.pt\")\n",
        "\n",
        "print(\"After PTQ (dynamic int8)\")\n",
        "print(f\"acc: {acc_int8*100:.2f}%\")\n",
        "print(f\"size: {size_int8:.3f} MB\")\n",
        "\n",
        "print(f\"density (pre-quant float weights): {density_percent(to_quantize):.2f}%\")\n",
        "\n",
        "\n",
        "torch.save(student_int8.state_dict(), \"./compressed_ckpt/student_pruned_int8.pt\")\n"
      ],
      "metadata": {
        "colab": {
          "base_uri": "https://localhost:8080/"
        },
        "id": "BxcCNTDobITo",
        "outputId": "3fe04c94-383b-46b4-91eb-0af16cd63148"
      },
      "execution_count": 120,
      "outputs": [
        {
          "output_type": "stream",
          "name": "stderr",
          "text": [
            "/tmp/ipython-input-824485411.py:4: DeprecationWarning: torch.ao.quantization is deprecated and will be removed in 2.10. \n",
            "For migrations of users: \n",
            "1. Eager mode quantization (torch.ao.quantization.quantize, torch.ao.quantization.quantize_dynamic), please migrate to use torchao eager mode quantize_ API instead \n",
            "2. FX graph mode quantization (torch.ao.quantization.quantize_fx.prepare_fx,torch.ao.quantization.quantize_fx.convert_fx, please migrate to use torchao pt2e quantization API instead (prepare_pt2e, convert_pt2e) \n",
            "3. pt2e quantization has been migrated to torchao (https://github.com/pytorch/ao/tree/main/torchao/quantization/pt2e) \n",
            "see https://github.com/pytorch/ao/issues/2259 for more details\n",
            "  qmodel = quantize_dynamic(\n"
          ]
        },
        {
          "output_type": "stream",
          "name": "stdout",
          "text": [
            "After PTQ (dynamic int8)\n",
            "acc: 92.24%\n",
            "size: 0.276 MB\n",
            "density (pre-quant float weights): 10.17%\n"
          ]
        }
      ]
    },
    {
      "cell_type": "code",
      "source": [
        "\n",
        "import torch, torch.nn as nn, torch.nn.functional as F\n",
        "from torchvision import datasets, transforms\n",
        "from torch.utils.data import DataLoader\n",
        "\n",
        "class StudentMLP(nn.Module):\n",
        "    def __init__(self, hidden=256):\n",
        "        super().__init__()\n",
        "        self.net = nn.Sequential(\n",
        "            nn.Linear(28*28, hidden),\n",
        "            nn.ReLU(inplace=True),\n",
        "            nn.Linear(hidden, hidden),\n",
        "            nn.ReLU(inplace=True),\n",
        "            nn.Linear(hidden, 10)\n",
        "        )\n",
        "    def forward(self, x):\n",
        "        if x.ndim == 4:\n",
        "            x = x.view(x.size(0), -1)\n",
        "        return self.net(x)\n",
        "\n",
        "student = StudentMLP(hidden=256)\n",
        "state_dict = torch.load(\"./compressed_ckpt/student_pruned_unstructured_90.pt\", map_location=\"cpu\")\n",
        "student.load_state_dict(state_dict, strict=False)\n",
        "student.eval();\n",
        "\n",
        "test_tf = transforms.Compose([\n",
        "    transforms.ToTensor(),\n",
        "    transforms.Normalize((0.1307,), (0.3081,))\n",
        "])\n",
        "test_ds = datasets.MNIST(root=\"./data\", train=False, download=True, transform=test_tf)\n",
        "test_loader = DataLoader(test_ds, batch_size=512, shuffle=False)\n"
      ],
      "metadata": {
        "id": "l9UbDApCeE4_"
      },
      "execution_count": 121,
      "outputs": []
    },
    {
      "cell_type": "code",
      "source": [
        "\n",
        "import numpy as np, matplotlib.pyplot as plt\n",
        "\n",
        "@torch.no_grad()\n",
        "def get_logits_and_labels(model, loader):\n",
        "    model.eval()\n",
        "    all_logits, all_labels = [], []\n",
        "    for x, y in loader:\n",
        "        logits = model(x)\n",
        "        all_logits.append(logits)\n",
        "        all_labels.append(y)\n",
        "    return torch.cat(all_logits), torch.cat(all_labels)\n",
        "\n",
        "logits, labels = get_logits_and_labels(student, test_loader)\n",
        "\n",
        "def expected_calibration_error(logits, labels, n_bins=15):\n",
        "    probs = torch.softmax(logits, dim=1)\n",
        "    confs, preds = probs.max(1)\n",
        "    accs = preds.eq(labels)\n",
        "    ece = 0.0\n",
        "    bins = torch.linspace(0, 1, n_bins + 1)\n",
        "    for i in range(n_bins):\n",
        "        mask = (confs > bins[i]) & (confs <= bins[i+1])\n",
        "        if mask.any():\n",
        "            bin_acc = accs[mask].float().mean()\n",
        "            bin_conf = confs[mask].mean()\n",
        "            ece += (mask.float().mean() * torch.abs(bin_acc - bin_conf)).item()\n",
        "    return ece\n",
        "\n",
        "ece_before = expected_calibration_error(logits, labels)\n",
        "print(f\"ECE before calibration: {ece_before:.4f}\")\n"
      ],
      "metadata": {
        "colab": {
          "base_uri": "https://localhost:8080/"
        },
        "id": "sp7TdtkYeH52",
        "outputId": "970c364e-0ec5-43ee-b4a3-7a981a68bb3c"
      },
      "execution_count": 122,
      "outputs": [
        {
          "output_type": "stream",
          "name": "stdout",
          "text": [
            "ECE before calibration: 0.6501\n"
          ]
        }
      ]
    },
    {
      "cell_type": "code",
      "source": [
        "\n",
        "import torch.optim as optim\n",
        "\n",
        "def tune_temperature(logits, labels, lr=0.01, max_iter=500):\n",
        "    T = torch.ones(1, requires_grad=True)\n",
        "    optimizer = optim.LBFGS([T], lr=lr, max_iter=max_iter)\n",
        "\n",
        "    def closure():\n",
        "        optimizer.zero_grad()\n",
        "        loss = F.cross_entropy(logits / T, labels)\n",
        "        loss.backward()\n",
        "        return loss\n",
        "\n",
        "    optimizer.step(closure)\n",
        "    return T.detach().item()\n",
        "\n",
        "T_opt = tune_temperature(logits.clone(), labels.clone())\n",
        "print(f\"Optimal temperature: {T_opt:.3f}\")\n",
        "\n",
        "logits_T = logits / T_opt\n",
        "ece_after_T = expected_calibration_error(logits_T, labels)\n",
        "print(f\"ECE after temperature scaling: {ece_after_T:.4f}\")\n"
      ],
      "metadata": {
        "colab": {
          "base_uri": "https://localhost:8080/"
        },
        "id": "NQCTCAu4ePZH",
        "outputId": "4c81c232-26cc-4a89-b486-b65ea88af457"
      },
      "execution_count": 123,
      "outputs": [
        {
          "output_type": "stream",
          "name": "stdout",
          "text": [
            "Optimal temperature: 0.165\n",
            "ECE after temperature scaling: 0.0088\n"
          ]
        }
      ]
    },
    {
      "cell_type": "code",
      "source": [
        "\n",
        "def reliability_diagram(logits, labels, T=None, n_bins=15, title=\"Reliability\"):\n",
        "    probs = torch.softmax(logits if T is None else logits/T, dim=1)\n",
        "    confs, preds = probs.max(1)\n",
        "    accs = preds.eq(labels)\n",
        "\n",
        "    bins = np.linspace(0, 1, n_bins+1)\n",
        "    bin_accs, bin_confs = [], []\n",
        "    for i in range(n_bins):\n",
        "        mask = (confs > bins[i]) & (confs <= bins[i+1])\n",
        "        if mask.any():\n",
        "            bin_accs.append(accs[mask].float().mean().item())\n",
        "            bin_confs.append(confs[mask].mean().item())\n",
        "        else:\n",
        "            bin_accs.append(0)\n",
        "            bin_confs.append(0)\n",
        "    plt.figure(figsize=(5,5))\n",
        "    plt.plot([0,1],[0,1],'--',color='gray')\n",
        "    plt.bar(bin_confs, np.array(bin_accs)-np.array(bin_confs),\n",
        "            width=0.05, bottom=bin_confs, color='skyblue', edgecolor='black')\n",
        "    plt.xlabel(\"Confidence\")\n",
        "    plt.ylabel(\"Accuracy\")\n",
        "    plt.title(title)\n",
        "    plt.show()\n",
        "\n",
        "reliability_diagram(logits, labels, T=None, title=f\"Before Calibration (ECE={ece_before:.3f})\")\n",
        "reliability_diagram(logits, labels, T=T_opt, title=f\"After Temp Scaling (ECE={ece_after_T:.3f})\")\n"
      ],
      "metadata": {
        "colab": {
          "base_uri": "https://localhost:8080/",
          "height": 957
        },
        "id": "HFcZacITeUfx",
        "outputId": "adbc7082-44ff-4279-f1ae-3b6acd0e76ed"
      },
      "execution_count": 124,
      "outputs": [
        {
          "output_type": "display_data",
          "data": {
            "text/plain": [
              "<Figure size 500x500 with 1 Axes>"
            ],
            "image/png": "[encoded data removed]"
          },
          "metadata": {}
        },
        {
          "output_type": "display_data",
          "data": {
            "text/plain": [
              "<Figure size 500x500 with 1 Axes>"
            ],
            "image/png": "[encoded data removed]"
          },
          "metadata": {}
        }
      ]
    },
    {
      "cell_type": "code",
      "source": [
        "\n",
        "import os, time, torch, torch.nn as nn, numpy as np, matplotlib.pyplot as plt\n",
        "\n",
        "def model_size_mb(model, path=\"./_tmp.pt\"):\n",
        "    torch.save(model.state_dict(), path)\n",
        "    mb = os.path.getsize(path) / 1e6\n",
        "    os.remove(path)\n",
        "    return mb\n",
        "\n",
        "def density_percent(model):\n",
        "    nz, total = 0, 0\n",
        "    with torch.no_grad():\n",
        "        for p in model.parameters():\n",
        "            if p.dtype.is_floating_point:\n",
        "                total += p.numel()\n",
        "                nz += (p != 0).sum().item()\n",
        "    return 100.0 * nz / max(total, 1)\n",
        "\n",
        "@torch.no_grad()\n",
        "def eval_acc(model, loader):\n",
        "    model.eval()\n",
        "    correct = total = 0\n",
        "    for x, y in loader:\n",
        "        x, y = x.to(\"cpu\"), y.to(\"cpu\")\n",
        "        pred = model(x).argmax(1)\n",
        "        correct += (pred == y).sum().item()\n",
        "        total += y.numel()\n",
        "    return correct / total\n",
        "\n",
        "def median_latency_ms_per_sample(model, repeats=300):\n",
        "    model = model.to(\"cpu\").eval()\n",
        "    torch.set_num_threads(1)\n",
        "    xs = [torch.randn(1, 1, 28, 28) for _ in range(repeats)]\n",
        "    times = []\n",
        "    with torch.no_grad():\n",
        "        for x in xs:\n",
        "            t0 = time.time()\n",
        "            _ = model(x)\n",
        "            times.append((time.time() - t0) * 1000.0)\n",
        "    return float(np.median(times))\n",
        "\n",
        "def expected_calibration_error(logits, labels, n_bins=15):\n",
        "    probs = torch.softmax(logits, dim=1)\n",
        "    confs, preds = probs.max(1)\n",
        "    accs = preds.eq(labels)\n",
        "    ece = 0.0\n",
        "    bins = torch.linspace(0, 1, n_bins + 1)\n",
        "    for i in range(n_bins):\n",
        "        mask = (confs > bins[i]) & (confs <= bins[i+1])\n",
        "        if mask.any():\n",
        "            bin_acc = accs[mask].float().mean()\n",
        "            bin_conf = confs[mask].mean()\n",
        "            ece += (mask.float().mean() * torch.abs(bin_acc - bin_conf)).item()\n",
        "    return ece\n"
      ],
      "metadata": {
        "id": "wPTbA9nhe0Zw"
      },
      "execution_count": 125,
      "outputs": []
    },
    {
      "cell_type": "code",
      "source": [
        "\n",
        "import torch, os\n",
        "from torchvision import datasets, transforms\n",
        "from torch.utils.data import DataLoader\n",
        "\n",
        "\n",
        "class StudentMLP(nn.Module):\n",
        "    def __init__(self, hidden=256):\n",
        "        super().__init__()\n",
        "        self.net = nn.Sequential(\n",
        "            nn.Linear(28*28, hidden),\n",
        "            nn.ReLU(),\n",
        "            nn.Linear(hidden, hidden),\n",
        "            nn.ReLU(),\n",
        "            nn.Linear(hidden, 10)\n",
        "        )\n",
        "    def forward(self, x):\n",
        "        if x.ndim == 4: x = x.view(x.size(0), -1)\n",
        "        return self.net(x)\n",
        "\n",
        "class TeacherCNN(nn.Module):\n",
        "    def __init__(self, num_classes=10):\n",
        "        super().__init__()\n",
        "        self.stem = nn.Sequential(\n",
        "            nn.Conv2d(1,32,3,1,1), nn.ReLU(),\n",
        "            nn.Conv2d(32,32,3,1,1), nn.ReLU(),\n",
        "            nn.MaxPool2d(2),\n",
        "            nn.Conv2d(32,64,3,1,1), nn.ReLU(),\n",
        "            nn.Conv2d(64,64,3,1,1), nn.ReLU(),\n",
        "            nn.MaxPool2d(2),\n",
        "            nn.Flatten(), nn.Linear(7*7*64,128), nn.ReLU(),\n",
        "            nn.Linear(128,num_classes)\n",
        "        )\n",
        "    def forward(self,x): return self.stem(x)\n",
        "\n",
        "def safe_load(path):\n",
        "\n",
        "    obj = torch.load(path, map_location=\"cpu\")\n",
        "    if isinstance(obj, dict) and \"state_dict\" in obj:\n",
        "        return obj[\"state_dict\"]\n",
        "    elif isinstance(obj, dict):\n",
        "        return obj\n",
        "    else:\n",
        "\n",
        "        return obj.state_dict()\n",
        "\n",
        "models = {}\n",
        "models[\"TeacherCNN\"] = safe_load(\"./teacher_ckpt/mnist_teacher_cnn.pt\")\n",
        "models[\"Student_KD\"] = safe_load(\"./student_kd.pt\")\n",
        "models[\"Pruned_90\"] = safe_load(\"./compressed_ckpt/student_pruned_unstructured_90.pt\")\n",
        "models[\"Quantized_INT8\"] = safe_load(\"/content/compressed_ckpt/student_pruned_int8.pt\")\n",
        "\n",
        "\n",
        "test_tf = transforms.Compose([\n",
        "    transforms.ToTensor(),\n",
        "    transforms.Normalize((0.1307,), (0.3081,))\n",
        "])\n",
        "test_ds = datasets.MNIST(root=\"./data\", train=False, download=True, transform=test_tf)\n",
        "test_loader = DataLoader(test_ds, batch_size=512, shuffle=False)\n",
        "print(\"All models loaded successfully\")\n"
      ],
      "metadata": {
        "colab": {
          "base_uri": "https://localhost:8080/"
        },
        "id": "GvYfZt6Ze2pn",
        "outputId": "4ab3a9ac-5637-404a-ccdc-7b6faca58770"
      },
      "execution_count": 126,
      "outputs": [
        {
          "output_type": "stream",
          "name": "stdout",
          "text": [
            "All models loaded successfully\n"
          ]
        }
      ]
    },
    {
      "cell_type": "code",
      "source": [
        "import torch, torch.nn as nn, torch.nn.functional as F, numpy as np, pandas as pd, time, copy, os\n",
        "\n",
        "DEVICE = torch.device(\"cpu\")\n",
        "\n",
        "@torch.no_grad()\n",
        "def eval_acc(model, loader):\n",
        "    model.eval()\n",
        "    correct = total = 0\n",
        "    for x, y in loader:\n",
        "        x, y = x.to(DEVICE), y.to(DEVICE)\n",
        "        logits = model(x)\n",
        "        pred = logits.argmax(1)\n",
        "        correct += (pred == y).sum().item()\n",
        "        total += y.numel()\n",
        "    return correct / total\n",
        "\n",
        "def model_size_mb(model, path=\"./_tmp.pt\"):\n",
        "    torch.save(model.state_dict(), path)\n",
        "    mb = os.path.getsize(path) / 1e6\n",
        "    os.remove(path)\n",
        "    return mb\n",
        "\n",
        "def density_percent(model):\n",
        "    nz, total = 0, 0\n",
        "    with torch.no_grad():\n",
        "        for p in model.parameters():\n",
        "            if p.dtype.is_floating_point:\n",
        "                total += p.numel()\n",
        "                nz += (p != 0).sum().item()\n",
        "    return 100.0 * nz / max(total, 1)\n",
        "\n",
        "def median_latency_ms_per_sample(model, repeats=300):\n",
        "    try:\n",
        "        torch.set_num_threads(1)\n",
        "        torch.set_num_interop_threads(1)\n",
        "    except Exception as e:\n",
        "        print(\"(⚠️ thread config skipped:\", e, \")\")\n",
        "    model = copy.deepcopy(model).to(\"cpu\").eval()\n",
        "    x = torch.randn(1, 1, 28, 28)\n",
        "    times = []\n",
        "    with torch.no_grad():\n",
        "        for _ in range(50):\n",
        "            _ = model(x)\n",
        "        for _ in range(repeats):\n",
        "            t0 = time.time()\n",
        "            _ = model(x)\n",
        "            times.append((time.time() - t0) * 1000.0)\n",
        "    return float(np.median(times))\n",
        "\n",
        "\n",
        "def expected_calibration_error(logits, labels, n_bins=15):\n",
        "    probs = F.softmax(logits, dim=1)\n",
        "    conf, preds = probs.max(1)\n",
        "    correct = preds.eq(labels)\n",
        "    ece = torch.zeros(1, device=logits.device)\n",
        "    for i in range(n_bins):\n",
        "        lo, hi = i / n_bins, (i + 1) / n_bins\n",
        "        mask = (conf > lo) & (conf <= hi)\n",
        "        if mask.any():\n",
        "            acc = correct[mask].float().mean()\n",
        "            avg_conf = conf[mask].mean()\n",
        "            ece += (mask.float().mean()) * torch.abs(acc - avg_conf)\n",
        "    return ece.item()\n",
        "\n",
        "class ConvBlock(nn.Module):\n",
        "    def __init__(self, cin, cout):\n",
        "        super().__init__()\n",
        "        self.net = nn.Sequential(\n",
        "            nn.Conv2d(cin, cout, kernel_size=3, padding=1, bias=False),\n",
        "            nn.BatchNorm2d(cout),\n",
        "            nn.ReLU(inplace=True),\n",
        "        )\n",
        "    def forward(self, x):\n",
        "        return self.net(x)\n",
        "\n",
        "class TeacherCNN(nn.Module):\n",
        "    def __init__(self, num_classes=10):\n",
        "        super().__init__()\n",
        "        self.stem = nn.Sequential(\n",
        "            ConvBlock(1, 32),\n",
        "            ConvBlock(32, 32),\n",
        "        )\n",
        "        self.block2 = nn.Sequential(\n",
        "            nn.MaxPool2d(2),\n",
        "            ConvBlock(32, 64),\n",
        "            ConvBlock(64, 64),\n",
        "        )\n",
        "        self.block3 = nn.Sequential(\n",
        "            nn.MaxPool2d(2),\n",
        "            ConvBlock(64, 128),\n",
        "            ConvBlock(128, 128),\n",
        "        )\n",
        "        self.head = nn.Sequential(\n",
        "            nn.AdaptiveAvgPool2d(1),\n",
        "            nn.Flatten(),\n",
        "            nn.Linear(128, num_classes)\n",
        "        )\n",
        "\n",
        "    def forward(self, x):\n",
        "        x = self.stem(x)\n",
        "        x = self.block2(x)\n",
        "        x = self.block3(x)\n",
        "        x = self.head(x)\n",
        "        return x\n",
        "\n",
        "\n",
        "class StudentMLP(nn.Module):\n",
        "    def __init__(self, hidden=256):\n",
        "        super().__init__()\n",
        "        self.net = nn.Sequential(\n",
        "            nn.Linear(28*28, hidden), nn.ReLU(),\n",
        "            nn.Linear(hidden, hidden), nn.ReLU(),\n",
        "            nn.Linear(hidden, 10)\n",
        "        )\n",
        "    def forward(self,x):\n",
        "        if x.ndim == 4: x = x.view(x.size(0), -1)\n",
        "        return self.net(x)\n",
        "\n",
        "from torchvision import datasets, transforms\n",
        "test_tf = transforms.Compose([transforms.ToTensor(), transforms.Normalize((0.1307,), (0.3081,))])\n",
        "test_ds = datasets.MNIST(root=\"./data\", train=False, download=True, transform=test_tf)\n",
        "test_loader = torch.utils.data.DataLoader(test_ds, batch_size=512, shuffle=False)\n",
        "\n",
        "models = {}\n",
        "\n",
        "t_ckpt = torch.load(\"teacher_ckpt/mnist_teacher_cnn.pt\", map_location=\"cpu\")\n",
        "teacher = TeacherCNN()\n",
        "teacher.load_state_dict(t_ckpt[\"state_dict\"], strict=True)\n",
        "teacher.eval()\n",
        "models[\"TeacherCNN\"] = teacher\n",
        "\n",
        "s_ckpt = torch.load(\"/content/student_kd.pt\", map_location=\"cpu\")\n",
        "student_kd = StudentMLP(); student_kd.load_state_dict(s_ckpt if \"state_dict\" not in s_ckpt else s_ckpt[\"state_dict\"]); student_kd.eval()\n",
        "models[\"Student_KD\"] = student_kd\n",
        "\n",
        "p_ckpt = torch.load(\"compressed_ckpt/student_pruned_unstructured_90.pt\", map_location=\"cpu\")\n",
        "student_pruned = StudentMLP(); student_pruned.load_state_dict(p_ckpt if \"state_dict\" not in p_ckpt else p_ckpt[\"state_dict\"], strict=False); student_pruned.eval()\n",
        "models[\"Pruned_90\"] = student_pruned\n",
        "\n",
        "q_ckpt = torch.load(\"compressed_ckpt/student_pruned_int8.pt\", map_location=\"cpu\")\n",
        "from torch.ao.quantization import quantize_dynamic\n",
        "student_q = StudentMLP()\n",
        "student_qint8 = quantize_dynamic(copy.deepcopy(student_q), {nn.Linear}, dtype=torch.qint8)\n",
        "try:\n",
        "    student_qint8.load_state_dict(q_ckpt)\n",
        "except:\n",
        "    print(\"⚠️ Quantized model state_dict format differs, using pre-saved quantized version directly.\")\n",
        "models[\"Quantized_INT8\"] = student_qint8\n",
        "\n",
        "results = []\n",
        "\n",
        "for name, model in models.items():\n",
        "    print(f\"Evaluating {name} ...\")\n",
        "    logits, labels = [], []\n",
        "    for x, y in test_loader:\n",
        "        out = model(x.to(DEVICE))\n",
        "        logits.append(out)\n",
        "        labels.append(y)\n",
        "    logits = torch.cat(logits)\n",
        "    labels = torch.cat(labels)\n",
        "    ece = expected_calibration_error(logits, labels)\n",
        "    acc = eval_acc(model, test_loader)\n",
        "    size = model_size_mb(model)\n",
        "    lat = median_latency_ms_per_sample(model)\n",
        "    dens = density_percent(model)\n",
        "    results.append((name, size, dens, lat, acc*100, ece))\n",
        "\n",
        "df = pd.DataFrame(results, columns=[\"Model\",\"Size (MB)\",\"Density (%)\",\"Latency (ms)\",\"Accuracy (%)\",\"ECE\"])\n",
        "print(\"\\n=== Metrics Summary ===\")\n",
        "print(df.to_string(index=False))\n"
      ],
      "metadata": {
        "colab": {
          "base_uri": "https://localhost:8080/"
        },
        "id": "T2pBxKbmgApB",
        "outputId": "bf4c58d0-339a-421d-cb33-0611224288e3"
      },
      "execution_count": 2,
      "outputs": [
        {
          "output_type": "stream",
          "name": "stderr",
          "text": [
            "/tmp/ipython-input-1074163622.py:155: DeprecationWarning: torch.ao.quantization is deprecated and will be removed in 2.10. \n",
            "For migrations of users: \n",
            "1. Eager mode quantization (torch.ao.quantization.quantize, torch.ao.quantization.quantize_dynamic), please migrate to use torchao eager mode quantize_ API instead \n",
            "2. FX graph mode quantization (torch.ao.quantization.quantize_fx.prepare_fx,torch.ao.quantization.quantize_fx.convert_fx, please migrate to use torchao pt2e quantization API instead (prepare_pt2e, convert_pt2e) \n",
            "3. pt2e quantization has been migrated to torchao (https://github.com/pytorch/ao/tree/main/torchao/quantization/pt2e) \n",
            "see https://github.com/pytorch/ao/issues/2259 for more details\n",
            "  student_qint8 = quantize_dynamic(copy.deepcopy(student_q), {nn.Linear}, dtype=torch.qint8)\n"
          ]
        },
        {
          "output_type": "stream",
          "name": "stdout",
          "text": [
            "Evaluating TeacherCNN ...\n",
            "(⚠️ thread config skipped: Error: cannot set number of interop threads after parallel work has started or set_num_interop_threads called )\n",
            "Evaluating Student_KD ...\n",
            "(⚠️ thread config skipped: Error: cannot set number of interop threads after parallel work has started or set_num_interop_threads called )\n",
            "Evaluating Pruned_90 ...\n",
            "(⚠️ thread config skipped: Error: cannot set number of interop threads after parallel work has started or set_num_interop_threads called )\n",
            "Evaluating Quantized_INT8 ...\n",
            "(⚠️ thread config skipped: Error: cannot set number of interop threads after parallel work has started or set_num_interop_threads called )\n",
            "\n",
            "=== Metrics Summary ===\n",
            "         Model  Size (MB)  Density (%)  Latency (ms)  Accuracy (%)      ECE\n",
            "    TeacherCNN   1.167277   100.000000      3.263474         99.75 0.001677\n",
            "    Student_KD   1.079985   100.000000      0.098348         94.01 0.511968\n",
            "     Pruned_90   1.079985    10.174438      0.111580         92.32 0.650083\n",
            "Quantized_INT8   0.275529     0.000000      0.200272         92.24 0.646649\n"
          ]
        }
      ]
    },
    {
      "cell_type": "code",
      "source": [
        "import matplotlib.pyplot as plt\n",
        "from sklearn.isotonic import IsotonicRegression\n",
        "\n",
        "def expected_calibration_error(logits, labels, n_bins=15):\n",
        "    probs = F.softmax(logits, dim=1)\n",
        "    conf, preds = probs.max(1)\n",
        "    correct = preds.eq(labels)\n",
        "    ece = torch.zeros(1, device=logits.device)\n",
        "    for i in range(n_bins):\n",
        "        lo, hi = i / n_bins, (i + 1) / n_bins\n",
        "        mask = (conf > lo) & (conf <= hi)\n",
        "        if mask.any():\n",
        "            acc = correct[mask].float().mean()\n",
        "            avg_conf = conf[mask].mean()\n",
        "            ece += (mask.float().mean()) * torch.abs(acc - avg_conf)\n",
        "    return ece.item()\n",
        "\n",
        "def reliability_diagram(logits, labels, title=\"Reliability diagram\"):\n",
        "    probs = F.softmax(logits, dim=1)\n",
        "    conf, preds = probs.max(1)\n",
        "    correct = preds.eq(labels)\n",
        "    bins = np.linspace(0, 1, 11)\n",
        "    accs, confs = [], []\n",
        "    for i in range(len(bins) - 1):\n",
        "        mask = (conf > bins[i]) & (conf <= bins[i+1])\n",
        "        if mask.any():\n",
        "            accs.append(correct[mask].float().mean().item())\n",
        "            confs.append(conf[mask].mean().item())\n",
        "        else:\n",
        "            accs.append(np.nan)\n",
        "            confs.append(np.nan)\n",
        "    plt.figure(figsize=(4,4))\n",
        "    plt.plot([0,1],[0,1],'--',color='gray')\n",
        "    plt.plot(confs, accs, marker='o')\n",
        "    plt.xlabel(\"Confidence\")\n",
        "    plt.ylabel(\"Accuracy\")\n",
        "    plt.title(title)\n",
        "    plt.grid(True)\n",
        "    plt.show()"
      ],
      "metadata": {
        "id": "EIrTD2CcgT6V"
      },
      "execution_count": 5,
      "outputs": []
    },
    {
      "cell_type": "code",
      "source": [
        "@torch.no_grad()\n",
        "def temperature_scaling(logits, labels):\n",
        "    T = torch.ones(1, requires_grad=True)\n",
        "    optimizer = torch.optim.LBFGS([T], lr=0.01, max_iter=50)\n",
        "\n",
        "    nll = nn.CrossEntropyLoss()\n",
        "\n",
        "    def eval_loss():\n",
        "        optimizer.zero_grad()\n",
        "        loss = nll(logits / T, labels)\n",
        "        loss.backward()\n",
        "        return loss\n",
        "\n",
        "    optimizer.step(eval_loss)\n",
        "    return T.detach().item()\n",
        "\n",
        "model = models[\"Quantized_INT8\"]\n",
        "logits, labels = [], []\n",
        "for x, y in test_loader:\n",
        "    logits.append(model(x))\n",
        "    labels.append(y)\n",
        "logits, labels = torch.cat(logits), torch.cat(labels)\n",
        "\n",
        "ece_pre = expected_calibration_error(logits, labels)\n",
        "T_opt = temperature_scaling(logits, labels)\n",
        "ece_post = expected_calibration_error(logits / T_opt, labels)\n",
        "\n",
        "print(f\"Optimal temperature: {T_opt:.3f}\")\n",
        "print(f\"ECE pre: {ece_pre:.4f}, post: {ece_post:.4f}\")\n",
        "\n",
        "reliability_diagram(logits, labels, title=\"Pre-calibration\")\n",
        "reliability_diagram(logits / T_opt, labels, title=\"Post-calibration\")\n"
      ],
      "metadata": {
        "colab": {
          "base_uri": "https://localhost:8080/",
          "height": 910
        },
        "id": "eMJBA-v9gduK",
        "outputId": "19c36300-1305-429c-baa1-ceaf519cfdc8"
      },
      "execution_count": 6,
      "outputs": [
        {
          "output_type": "stream",
          "name": "stderr",
          "text": [
            "/usr/local/lib/python3.12/dist-packages/torch/optim/lbfgs.py:457: UserWarning: Converting a tensor with requires_grad=True to a scalar may lead to unexpected behavior.\n",
            "Consider using tensor.detach() first. (Triggered internally at /pytorch/torch/csrc/autograd/generated/python_variable_methods.cpp:835.)\n",
            "  loss = float(closure())\n"
          ]
        },
        {
          "output_type": "stream",
          "name": "stdout",
          "text": [
            "Optimal temperature: 0.393\n",
            "ECE pre: 0.6466, post: 0.2674\n"
          ]
        },
        {
          "output_type": "display_data",
          "data": {
            "text/plain": [
              "<Figure size 400x400 with 1 Axes>"
            ],
            "image/png": "[encoded data removed]"
          },
          "metadata": {}
        },
        {
          "output_type": "display_data",
          "data": {
            "text/plain": [
              "<Figure size 400x400 with 1 Axes>"
            ],
            "image/png": "[encoded data removed]"
          },
          "metadata": {}
        }
      ]
    },
    {
      "cell_type": "code",
      "source": [
        "plt.figure(figsize=(6,4))\n",
        "for name, size, dens, lat, acc, ece in results:\n",
        "    if \"Pruned\" in name:\n",
        "        label = f\"{name} ({int(100-dens):d}% pruned)\"\n",
        "        plt.scatter(size, acc, label=label)\n",
        "    else:\n",
        "        plt.scatter(size, acc, label=name)\n",
        "plt.xlabel(\"Model size (MB)\")\n",
        "plt.ylabel(\"Accuracy (%)\")\n",
        "plt.title(\"Pareto: Accuracy vs Model Size\")\n",
        "plt.legend()\n",
        "plt.grid(True)\n",
        "plt.show()\n"
      ],
      "metadata": {
        "colab": {
          "base_uri": "https://localhost:8080/",
          "height": 410
        },
        "id": "SYP9cVe6p86r",
        "outputId": "cfd96639-ad9d-4a85-d419-eaa83ae44fae"
      },
      "execution_count": 7,
      "outputs": [
        {
          "output_type": "display_data",
          "data": {
            "text/plain": [
              "<Figure size 600x400 with 1 Axes>"
            ],
            "image/png": "[encoded data removed]"
          },
          "metadata": {}
        }
      ]
    }
  ]
}